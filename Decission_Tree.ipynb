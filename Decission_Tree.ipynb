{
  "nbformat": 4,
  "nbformat_minor": 5,
  "metadata": {
    "kernelspec": {
      "display_name": "Python 3",
      "language": "python",
      "name": "python3"
    },
    "language_info": {
      "codemirror_mode": {
        "name": "ipython",
        "version": 3
      },
      "file_extension": ".py",
      "mimetype": "text/x-python",
      "name": "python",
      "nbconvert_exporter": "python",
      "pygments_lexer": "ipython3",
      "version": "3.6.9"
    },
    "colab": {
      "name": "Decission Tree.ipynb",
      "provenance": [],
      "collapsed_sections": [],
      "include_colab_link": true
    }
  },
  "cells": [
    {
      "cell_type": "markdown",
      "metadata": {
        "id": "view-in-github",
        "colab_type": "text"
      },
      "source": [
        "<a href=\"https://colab.research.google.com/github/Bryantoropn/Datmin-Decission-Tree/blob/main/Decission_Tree.ipynb\" target=\"_parent\"><img src=\"https://colab.research.google.com/assets/colab-badge.svg\" alt=\"Open In Colab\"/></a>"
      ]
    },
    {
      "cell_type": "markdown",
      "metadata": {
        "id": "casual-employee"
      },
      "source": [
        "# Decision Tree\n",
        "- Reference: **Tan, Steinbach, Kumar**\n",
        "- Created by: **Tio Dharmawan**, Program Studi Teknologi Informasi, Fakultas Ilmu Komputer, Universitas Jember, 2021\n",
        "- E-mail: tio.pssi@unej.ac.id"
      ],
      "id": "casual-employee"
    },
    {
      "cell_type": "markdown",
      "metadata": {
        "id": "S1mmQXgtvJKU"
      },
      "source": [
        "## Review\n",
        "Gini Index:\n",
        "\n",
        "- $GINI(t)= 1-\\sum_{j}{[p(j|t)]^2}$\n",
        "\n",
        "Entropy:\n",
        "\n",
        "- $Entropy(t)=-\\sum_{j}{p(j|t) log(p|t)}$\n",
        "\n",
        "Missclassification Error:\n",
        "\n",
        "- $Error(t)=1-max p(j|t)$\n",
        "\n",
        "<br/>\n",
        "\n",
        "### Hitung Impurity P\n",
        "dengan data:\n",
        "- C1: 5\n",
        "- C2: 5\n",
        "\n",
        "**Gini Index**"
      ],
      "id": "S1mmQXgtvJKU"
    },
    {
      "cell_type": "code",
      "metadata": {
        "colab": {
          "base_uri": "https://localhost:8080/"
        },
        "id": "4eGP250-unNm",
        "outputId": "c2464088-6203-4d64-ce18-6570336bbf90"
      },
      "source": [
        "gini = 1 - ((5/10)**2 + (5/10)**2)\n",
        "gini"
      ],
      "id": "4eGP250-unNm",
      "execution_count": null,
      "outputs": [
        {
          "output_type": "execute_result",
          "data": {
            "text/plain": [
              "0.5"
            ]
          },
          "metadata": {},
          "execution_count": 30
        }
      ]
    },
    {
      "cell_type": "code",
      "metadata": {
        "colab": {
          "base_uri": "https://localhost:8080/"
        },
        "id": "oJqW1vNwCyrW",
        "outputId": "8fb77dcc-efa2-4eb2-b4c9-585ab40ba036"
      },
      "source": [
        "import numpy as np\n",
        "data = np.array([5, 5]) # membuat numpy array tujuannya untuk memanfaatkan fungsi sum pada numpy array\n",
        "sum = 0 # variabel untuk menampung jumlah dari probabilitasnya\n",
        "for i in data: # untuk mendapatkan setiap nilai pada variabel data\n",
        "  p = (i/data.sum())**2 # (j/t)**2 => (5/10)**2\n",
        "  sum += p # proses sum ditambahkan pada variabel yang ada pada line-3\n",
        "gini = 1- sum # gini 1 - jumlah probabilitas \n",
        "gini"
      ],
      "id": "oJqW1vNwCyrW",
      "execution_count": null,
      "outputs": [
        {
          "output_type": "execute_result",
          "data": {
            "text/plain": [
              "0.5"
            ]
          },
          "metadata": {},
          "execution_count": 47
        }
      ]
    },
    {
      "cell_type": "code",
      "metadata": {
        "id": "3qFrNehyFLFK"
      },
      "source": [
        "def gini(data):\n",
        "  sum = 0 \n",
        "  for i in data: \n",
        "    p = (i/data.sum())**2 \n",
        "    sum += p\n",
        "  gini = 1- sum\n",
        "  return gini"
      ],
      "id": "3qFrNehyFLFK",
      "execution_count": null,
      "outputs": []
    },
    {
      "cell_type": "code",
      "metadata": {
        "colab": {
          "base_uri": "https://localhost:8080/"
        },
        "id": "9H_VOtccFXd6",
        "outputId": "a765debc-8a2e-461a-ffea-60071cb5095d"
      },
      "source": [
        "data = np.array([5, 5])\n",
        "gini(data)"
      ],
      "id": "9H_VOtccFXd6",
      "execution_count": null,
      "outputs": [
        {
          "output_type": "execute_result",
          "data": {
            "text/plain": [
              "0.5"
            ]
          },
          "metadata": {},
          "execution_count": 49
        }
      ]
    },
    {
      "cell_type": "markdown",
      "metadata": {
        "id": "Plh6Wo8nx1oW"
      },
      "source": [
        "**Entropy**"
      ],
      "id": "Plh6Wo8nx1oW"
    },
    {
      "cell_type": "code",
      "metadata": {
        "colab": {
          "base_uri": "https://localhost:8080/"
        },
        "id": "s9I7etsYx49S",
        "outputId": "3af33cca-735e-4c8c-9fa2-5dbc98696172"
      },
      "source": [
        "entropy = -1 * ((5/10)*math.log(5/10)+(5/10)*math.log(5/10))\n",
        "entropy"
      ],
      "id": "s9I7etsYx49S",
      "execution_count": null,
      "outputs": [
        {
          "output_type": "execute_result",
          "data": {
            "text/plain": [
              "0.6931471805599453"
            ]
          },
          "metadata": {},
          "execution_count": 34
        }
      ]
    },
    {
      "cell_type": "code",
      "metadata": {
        "colab": {
          "base_uri": "https://localhost:8080/"
        },
        "id": "V-LH9d6pFsIG",
        "outputId": "7b92623d-1aaa-4e70-8433-a4b5759aac2d"
      },
      "source": [
        "data = np.array([5, 5])\n",
        "jumlah_data = data.sum()\n",
        "sum = 0\n",
        "for i in data:\n",
        "  p = i/jumlah_data\n",
        "  p = p*math.log(p)\n",
        "  sum += p\n",
        "entropy = -1*sum\n",
        "entropy"
      ],
      "id": "V-LH9d6pFsIG",
      "execution_count": null,
      "outputs": [
        {
          "output_type": "execute_result",
          "data": {
            "text/plain": [
              "0.6931471805599453"
            ]
          },
          "metadata": {},
          "execution_count": 51
        }
      ]
    },
    {
      "cell_type": "code",
      "metadata": {
        "id": "BUmry4ppGNjc"
      },
      "source": [
        "def entropy(data):\n",
        "  jumlah_data = data.sum()\n",
        "  sum = 0\n",
        "  for i in data:\n",
        "    p = i/jumlah_data\n",
        "    p = p*math.log(p)\n",
        "    sum += p\n",
        "  entropy = -1*sum\n",
        "  return entropy"
      ],
      "id": "BUmry4ppGNjc",
      "execution_count": null,
      "outputs": []
    },
    {
      "cell_type": "code",
      "metadata": {
        "colab": {
          "base_uri": "https://localhost:8080/"
        },
        "id": "svgdPrLXGUXY",
        "outputId": "cc3eed92-8bee-4e10-ae6f-ed8260dcbdf4"
      },
      "source": [
        "data = np.array([5, 5])\n",
        "entropy(data)"
      ],
      "id": "svgdPrLXGUXY",
      "execution_count": null,
      "outputs": [
        {
          "output_type": "execute_result",
          "data": {
            "text/plain": [
              "0.6931471805599453"
            ]
          },
          "metadata": {},
          "execution_count": 53
        }
      ]
    },
    {
      "cell_type": "markdown",
      "metadata": {
        "id": "eHDAI3QPyI_4"
      },
      "source": [
        "**Missclassification Error**"
      ],
      "id": "eHDAI3QPyI_4"
    },
    {
      "cell_type": "code",
      "metadata": {
        "colab": {
          "base_uri": "https://localhost:8080/"
        },
        "id": "TQ1CLiaQyL-o",
        "outputId": "9e21df72-7cfd-4edf-af92-fbe46b4d8fcf"
      },
      "source": [
        "p1 = 5/10\n",
        "p2 = 5/10\n",
        "error = 1 - max(p1, p2)\n",
        "error"
      ],
      "id": "TQ1CLiaQyL-o",
      "execution_count": null,
      "outputs": [
        {
          "output_type": "execute_result",
          "data": {
            "text/plain": [
              "0.5"
            ]
          },
          "metadata": {},
          "execution_count": 35
        }
      ]
    },
    {
      "cell_type": "code",
      "metadata": {
        "colab": {
          "base_uri": "https://localhost:8080/"
        },
        "id": "lIa17GNuGc30",
        "outputId": "fabf51a1-6884-431f-8b96-cdc755d9775b"
      },
      "source": [
        "data = np.array([5, 5])\n",
        "jumlah_data = data.sum()\n",
        "p = []\n",
        "for i in data:\n",
        "  p_internal = i/jumlah_data\n",
        "  p.append(p_internal)\n",
        "error = 1 - max(p)\n",
        "error"
      ],
      "id": "lIa17GNuGc30",
      "execution_count": null,
      "outputs": [
        {
          "output_type": "execute_result",
          "data": {
            "text/plain": [
              "0.5"
            ]
          },
          "metadata": {},
          "execution_count": 63
        }
      ]
    },
    {
      "cell_type": "code",
      "metadata": {
        "id": "tsX1Ag8GHjjR"
      },
      "source": [
        "def miss_error(data):\n",
        "  jumlah_data = data.sum()\n",
        "  p = []\n",
        "  for i in data:\n",
        "    p_internal = i/jumlah_data\n",
        "    p.append(p_internal)\n",
        "  error = 1 - max(p)\n",
        "  return error"
      ],
      "id": "tsX1Ag8GHjjR",
      "execution_count": null,
      "outputs": []
    },
    {
      "cell_type": "code",
      "metadata": {
        "colab": {
          "base_uri": "https://localhost:8080/"
        },
        "id": "5GzJpZrnHrkD",
        "outputId": "4d2f2744-dee6-429e-8d49-7769c6a882a1"
      },
      "source": [
        "data = np.array([5, 5])\n",
        "miss_error(data)"
      ],
      "id": "5GzJpZrnHrkD",
      "execution_count": null,
      "outputs": [
        {
          "output_type": "execute_result",
          "data": {
            "text/plain": [
              "0.5"
            ]
          },
          "metadata": {},
          "execution_count": 65
        }
      ]
    },
    {
      "cell_type": "markdown",
      "metadata": {
        "id": "59J-9lgpyvzg"
      },
      "source": [
        "### Hitung Impurity Q\n",
        "dengan data:\n",
        "- C0: 9\n",
        "- C1: 1\n",
        "\n",
        "**Gini Index**"
      ],
      "id": "59J-9lgpyvzg"
    },
    {
      "cell_type": "code",
      "metadata": {
        "colab": {
          "base_uri": "https://localhost:8080/"
        },
        "id": "POfqRJO0zSN0",
        "outputId": "e17288fe-e296-4e5b-fe7c-b83aefa0fcc4"
      },
      "source": [
        "gini = 1 - ( (1/10)**2 + (9/10)**2 )\n",
        "gini"
      ],
      "id": "POfqRJO0zSN0",
      "execution_count": null,
      "outputs": [
        {
          "output_type": "execute_result",
          "data": {
            "text/plain": [
              "0.17999999999999994"
            ]
          },
          "metadata": {},
          "execution_count": 23
        }
      ]
    },
    {
      "cell_type": "code",
      "metadata": {
        "colab": {
          "base_uri": "https://localhost:8080/"
        },
        "id": "cM49icJQH-X_",
        "outputId": "5922ed4d-143e-4e30-e0ed-26bb41dd85ff"
      },
      "source": [
        "data = np.array([3,3])\n",
        "round(gini(data),3)"
      ],
      "id": "cM49icJQH-X_",
      "execution_count": null,
      "outputs": [
        {
          "output_type": "execute_result",
          "data": {
            "text/plain": [
              "0.5"
            ]
          },
          "metadata": {},
          "execution_count": 76
        }
      ]
    },
    {
      "cell_type": "markdown",
      "metadata": {
        "id": "xP9d0ZGUzhZm"
      },
      "source": [
        "**Entropy**"
      ],
      "id": "xP9d0ZGUzhZm"
    },
    {
      "cell_type": "code",
      "metadata": {
        "colab": {
          "base_uri": "https://localhost:8080/"
        },
        "id": "5z-NfcPtzkgY",
        "outputId": "4abf5919-21f6-41b2-c221-842d6727a8af"
      },
      "source": [
        "entropy = -1 * ( (1/10 * math.log(1/10)) + (9/10 * math.log(9/10)))\n",
        "entropy"
      ],
      "id": "5z-NfcPtzkgY",
      "execution_count": null,
      "outputs": [
        {
          "output_type": "execute_result",
          "data": {
            "text/plain": [
              "0.3250829733914482"
            ]
          },
          "metadata": {},
          "execution_count": 25
        }
      ]
    },
    {
      "cell_type": "code",
      "metadata": {
        "colab": {
          "base_uri": "https://localhost:8080/"
        },
        "id": "dW8U4u8RIJnG",
        "outputId": "b9d39d4e-649e-4aaf-d311-3ce01f5f610f"
      },
      "source": [
        "data = np.array([9,1])\n",
        "entropy(data)"
      ],
      "id": "dW8U4u8RIJnG",
      "execution_count": null,
      "outputs": [
        {
          "output_type": "execute_result",
          "data": {
            "text/plain": [
              "0.3250829733914482"
            ]
          },
          "metadata": {},
          "execution_count": 68
        }
      ]
    },
    {
      "cell_type": "markdown",
      "metadata": {
        "id": "vjBB-8NOz0xt"
      },
      "source": [
        "**Missclassification Error**"
      ],
      "id": "vjBB-8NOz0xt"
    },
    {
      "cell_type": "code",
      "metadata": {
        "colab": {
          "base_uri": "https://localhost:8080/"
        },
        "id": "Slm7Y8mbz3j1",
        "outputId": "7af85b44-a42b-40ba-f3cc-e8434e7f3194"
      },
      "source": [
        "p1 = 1/10\n",
        "p2 = 9/10\n",
        "error = 1 - max(p1, p2)\n",
        "error"
      ],
      "id": "Slm7Y8mbz3j1",
      "execution_count": null,
      "outputs": [
        {
          "output_type": "execute_result",
          "data": {
            "text/plain": [
              "0.09999999999999998"
            ]
          },
          "metadata": {},
          "execution_count": 28
        }
      ]
    },
    {
      "cell_type": "code",
      "metadata": {
        "colab": {
          "base_uri": "https://localhost:8080/"
        },
        "id": "heAonzdUIMjH",
        "outputId": "98b48752-37ab-40bc-bae9-d04b5a81874a"
      },
      "source": [
        "data = np.array([9,1])\n",
        "miss_error(data)"
      ],
      "id": "heAonzdUIMjH",
      "execution_count": null,
      "outputs": [
        {
          "output_type": "execute_result",
          "data": {
            "text/plain": [
              "0.09999999999999998"
            ]
          },
          "metadata": {},
          "execution_count": 69
        }
      ]
    },
    {
      "cell_type": "markdown",
      "metadata": {
        "id": "gothic-plaintiff"
      },
      "source": [
        "## 1. Importing Library\n",
        "--------------------------------\n",
        "Import beberapa library pendukung seperti pandas, numpy, dan juga math"
      ],
      "id": "gothic-plaintiff"
    },
    {
      "cell_type": "code",
      "metadata": {
        "id": "liberal-subscription"
      },
      "source": [
        "import pandas as pd\n",
        "import numpy as np\n",
        "import math"
      ],
      "id": "liberal-subscription",
      "execution_count": null,
      "outputs": []
    },
    {
      "cell_type": "markdown",
      "metadata": {
        "id": "approved-ridge"
      },
      "source": [
        "## 2. Preparing Data Using Pandas\n",
        "---------------------------------------------\n"
      ],
      "id": "approved-ridge"
    },
    {
      "cell_type": "code",
      "metadata": {
        "colab": {
          "base_uri": "https://localhost:8080/",
          "height": 669
        },
        "id": "widespread-driving",
        "outputId": "658f18eb-11d2-45c8-c1f5-1c6e8f2b596b"
      },
      "source": [
        "data = pd.DataFrame({\n",
        "    'customer_id':[1,2,3,4,5,6,7,8,9,10,11,12,13,14,15,16,17,18,19,20],\n",
        "    'gender':['M','M','M','M','M','M','F','F','F','F','M','M','M','M','F','F','F','F','F','F'],\n",
        "    'car_type':['Family','Sports','Sports','Sports','Sports','Sports','Sports','Sports','Sports','Luxury','Family','Family','Family','Luxury','Luxury','Luxury','Luxury','Luxury','Luxury','Luxury'],\n",
        "    'shirt_size':['Small','Medium','Medium','Large','Extra Large','Extra Large','Small','Small','Medium','Large','Large','Extra Large','Medium','Extra Large','Small','Small','Medium','Medium','Medium','Large'],\n",
        "    'class':['0','0','0','0','0','0','0','0','0','0','0','1','1','1','0','1','1','1','1','1']\n",
        "})\n",
        "columns = data.columns.tolist()\n",
        "columns.remove('customer_id')\n",
        "columns.remove('class')\n",
        "data"
      ],
      "id": "widespread-driving",
      "execution_count": null,
      "outputs": [
        {
          "output_type": "execute_result",
          "data": {
            "text/html": [
              "<div>\n",
              "<style scoped>\n",
              "    .dataframe tbody tr th:only-of-type {\n",
              "        vertical-align: middle;\n",
              "    }\n",
              "\n",
              "    .dataframe tbody tr th {\n",
              "        vertical-align: top;\n",
              "    }\n",
              "\n",
              "    .dataframe thead th {\n",
              "        text-align: right;\n",
              "    }\n",
              "</style>\n",
              "<table border=\"1\" class=\"dataframe\">\n",
              "  <thead>\n",
              "    <tr style=\"text-align: right;\">\n",
              "      <th></th>\n",
              "      <th>customer_id</th>\n",
              "      <th>gender</th>\n",
              "      <th>car_type</th>\n",
              "      <th>shirt_size</th>\n",
              "      <th>class</th>\n",
              "    </tr>\n",
              "  </thead>\n",
              "  <tbody>\n",
              "    <tr>\n",
              "      <th>0</th>\n",
              "      <td>1</td>\n",
              "      <td>M</td>\n",
              "      <td>Family</td>\n",
              "      <td>Small</td>\n",
              "      <td>0</td>\n",
              "    </tr>\n",
              "    <tr>\n",
              "      <th>1</th>\n",
              "      <td>2</td>\n",
              "      <td>M</td>\n",
              "      <td>Sports</td>\n",
              "      <td>Medium</td>\n",
              "      <td>0</td>\n",
              "    </tr>\n",
              "    <tr>\n",
              "      <th>2</th>\n",
              "      <td>3</td>\n",
              "      <td>M</td>\n",
              "      <td>Sports</td>\n",
              "      <td>Medium</td>\n",
              "      <td>0</td>\n",
              "    </tr>\n",
              "    <tr>\n",
              "      <th>3</th>\n",
              "      <td>4</td>\n",
              "      <td>M</td>\n",
              "      <td>Sports</td>\n",
              "      <td>Large</td>\n",
              "      <td>0</td>\n",
              "    </tr>\n",
              "    <tr>\n",
              "      <th>4</th>\n",
              "      <td>5</td>\n",
              "      <td>M</td>\n",
              "      <td>Sports</td>\n",
              "      <td>Extra Large</td>\n",
              "      <td>0</td>\n",
              "    </tr>\n",
              "    <tr>\n",
              "      <th>5</th>\n",
              "      <td>6</td>\n",
              "      <td>M</td>\n",
              "      <td>Sports</td>\n",
              "      <td>Extra Large</td>\n",
              "      <td>0</td>\n",
              "    </tr>\n",
              "    <tr>\n",
              "      <th>6</th>\n",
              "      <td>7</td>\n",
              "      <td>F</td>\n",
              "      <td>Sports</td>\n",
              "      <td>Small</td>\n",
              "      <td>0</td>\n",
              "    </tr>\n",
              "    <tr>\n",
              "      <th>7</th>\n",
              "      <td>8</td>\n",
              "      <td>F</td>\n",
              "      <td>Sports</td>\n",
              "      <td>Small</td>\n",
              "      <td>0</td>\n",
              "    </tr>\n",
              "    <tr>\n",
              "      <th>8</th>\n",
              "      <td>9</td>\n",
              "      <td>F</td>\n",
              "      <td>Sports</td>\n",
              "      <td>Medium</td>\n",
              "      <td>0</td>\n",
              "    </tr>\n",
              "    <tr>\n",
              "      <th>9</th>\n",
              "      <td>10</td>\n",
              "      <td>F</td>\n",
              "      <td>Luxury</td>\n",
              "      <td>Large</td>\n",
              "      <td>0</td>\n",
              "    </tr>\n",
              "    <tr>\n",
              "      <th>10</th>\n",
              "      <td>11</td>\n",
              "      <td>M</td>\n",
              "      <td>Family</td>\n",
              "      <td>Large</td>\n",
              "      <td>0</td>\n",
              "    </tr>\n",
              "    <tr>\n",
              "      <th>11</th>\n",
              "      <td>12</td>\n",
              "      <td>M</td>\n",
              "      <td>Family</td>\n",
              "      <td>Extra Large</td>\n",
              "      <td>1</td>\n",
              "    </tr>\n",
              "    <tr>\n",
              "      <th>12</th>\n",
              "      <td>13</td>\n",
              "      <td>M</td>\n",
              "      <td>Family</td>\n",
              "      <td>Medium</td>\n",
              "      <td>1</td>\n",
              "    </tr>\n",
              "    <tr>\n",
              "      <th>13</th>\n",
              "      <td>14</td>\n",
              "      <td>M</td>\n",
              "      <td>Luxury</td>\n",
              "      <td>Extra Large</td>\n",
              "      <td>1</td>\n",
              "    </tr>\n",
              "    <tr>\n",
              "      <th>14</th>\n",
              "      <td>15</td>\n",
              "      <td>F</td>\n",
              "      <td>Luxury</td>\n",
              "      <td>Small</td>\n",
              "      <td>0</td>\n",
              "    </tr>\n",
              "    <tr>\n",
              "      <th>15</th>\n",
              "      <td>16</td>\n",
              "      <td>F</td>\n",
              "      <td>Luxury</td>\n",
              "      <td>Small</td>\n",
              "      <td>1</td>\n",
              "    </tr>\n",
              "    <tr>\n",
              "      <th>16</th>\n",
              "      <td>17</td>\n",
              "      <td>F</td>\n",
              "      <td>Luxury</td>\n",
              "      <td>Medium</td>\n",
              "      <td>1</td>\n",
              "    </tr>\n",
              "    <tr>\n",
              "      <th>17</th>\n",
              "      <td>18</td>\n",
              "      <td>F</td>\n",
              "      <td>Luxury</td>\n",
              "      <td>Medium</td>\n",
              "      <td>1</td>\n",
              "    </tr>\n",
              "    <tr>\n",
              "      <th>18</th>\n",
              "      <td>19</td>\n",
              "      <td>F</td>\n",
              "      <td>Luxury</td>\n",
              "      <td>Medium</td>\n",
              "      <td>1</td>\n",
              "    </tr>\n",
              "    <tr>\n",
              "      <th>19</th>\n",
              "      <td>20</td>\n",
              "      <td>F</td>\n",
              "      <td>Luxury</td>\n",
              "      <td>Large</td>\n",
              "      <td>1</td>\n",
              "    </tr>\n",
              "  </tbody>\n",
              "</table>\n",
              "</div>"
            ],
            "text/plain": [
              "    customer_id gender car_type   shirt_size class\n",
              "0             1      M   Family        Small     0\n",
              "1             2      M   Sports       Medium     0\n",
              "2             3      M   Sports       Medium     0\n",
              "3             4      M   Sports        Large     0\n",
              "4             5      M   Sports  Extra Large     0\n",
              "5             6      M   Sports  Extra Large     0\n",
              "6             7      F   Sports        Small     0\n",
              "7             8      F   Sports        Small     0\n",
              "8             9      F   Sports       Medium     0\n",
              "9            10      F   Luxury        Large     0\n",
              "10           11      M   Family        Large     0\n",
              "11           12      M   Family  Extra Large     1\n",
              "12           13      M   Family       Medium     1\n",
              "13           14      M   Luxury  Extra Large     1\n",
              "14           15      F   Luxury        Small     0\n",
              "15           16      F   Luxury        Small     1\n",
              "16           17      F   Luxury       Medium     1\n",
              "17           18      F   Luxury       Medium     1\n",
              "18           19      F   Luxury       Medium     1\n",
              "19           20      F   Luxury        Large     1"
            ]
          },
          "metadata": {},
          "execution_count": 122
        }
      ]
    },
    {
      "cell_type": "markdown",
      "metadata": {
        "id": "8gWkEcnxKhVP"
      },
      "source": [
        "## Gini Index"
      ],
      "id": "8gWkEcnxKhVP"
    },
    {
      "cell_type": "code",
      "metadata": {
        "colab": {
          "base_uri": "https://localhost:8080/"
        },
        "id": "N-DWvdevL5ev",
        "outputId": "0afd99f7-73e3-4534-fad6-6b7e2b1f9ab5"
      },
      "source": [
        "by_class = data.groupby(['class'])['class'].count().reset_index(name='count')\n",
        "total_data = data.shape[0]\n",
        "by_class_list = by_class['count'].to_numpy()\n",
        "gini_parent = gini(by_class_list)\n",
        "print('Gini Parent: ', gini_parent)"
      ],
      "id": "N-DWvdevL5ev",
      "execution_count": null,
      "outputs": [
        {
          "output_type": "stream",
          "name": "stdout",
          "text": [
            "Gini Parent:  0.48\n"
          ]
        }
      ]
    },
    {
      "cell_type": "code",
      "metadata": {
        "colab": {
          "base_uri": "https://localhost:8080/"
        },
        "id": "ORx-diIlKgHr",
        "outputId": "93dff68a-23a3-42d6-de2b-45a075209da6"
      },
      "source": [
        "by_gender = data.groupby(['gender','class'])['gender'].count().reset_index(name='count')\n",
        "uq_value_gender = by_gender['gender'].unique()\n",
        "gini_children = dict()\n",
        "for i in uq_value_gender:\n",
        "  sliced = by_gender[by_gender['gender']==i]['count']\n",
        "  gini_children[i] = gini(sliced)\n",
        "\n",
        "# weighted_gini\n",
        "weighted_gini = 0\n",
        "for i in uq_value_gender:\n",
        "  sliced = by_gender[by_gender['gender']==i]['count']\n",
        "  weighted_gini += sliced.sum() / total_data * gini_children[i]\n",
        "\n",
        "gain = gini_parent - weighted_gini"
      ],
      "id": "ORx-diIlKgHr",
      "execution_count": null,
      "outputs": [
        {
          "output_type": "execute_result",
          "data": {
            "text/plain": [
              "0.019999999999999962"
            ]
          },
          "metadata": {},
          "execution_count": 120
        }
      ]
    },
    {
      "cell_type": "code",
      "metadata": {
        "id": "fIdHvnuoO_bj"
      },
      "source": [
        "def gini_index(data, columns):\n",
        "  result = dict()\n",
        "  for j in columns:\n",
        "    by_gender = data.groupby([j,'class'])[j].count().reset_index(name='count')\n",
        "    uq_value_gender = by_gender[j].unique()\n",
        "    gini_children = dict()\n",
        "    for i in uq_value_gender:\n",
        "      sliced = by_gender[by_gender[j]==i]['count']\n",
        "      gini_children[i] = gini(sliced)\n",
        "\n",
        "    # weighted_gini\n",
        "    weighted_gini = 0\n",
        "    for i in uq_value_gender:\n",
        "      sliced = by_gender[by_gender[j]==i]['count']\n",
        "      weighted_gini += sliced.sum() / total_data * gini_children[i]\n",
        "\n",
        "    gain = gini_parent - weighted_gini\n",
        "    result[j] = gain\n",
        "  return result"
      ],
      "id": "fIdHvnuoO_bj",
      "execution_count": null,
      "outputs": []
    },
    {
      "cell_type": "code",
      "metadata": {
        "colab": {
          "base_uri": "https://localhost:8080/"
        },
        "id": "5LQXgrK-P_-h",
        "outputId": "bd260a40-9e25-4eca-9b83-5ad29039c46c"
      },
      "source": [
        "gini_index(data, columns)"
      ],
      "id": "5LQXgrK-P_-h",
      "execution_count": null,
      "outputs": [
        {
          "output_type": "execute_result",
          "data": {
            "text/plain": [
              "{'car_type': 0.22999999999999998,\n",
              " 'gender': 0.019999999999999962,\n",
              " 'shirt_size': 0.05357142857142855}"
            ]
          },
          "metadata": {},
          "execution_count": 127
        }
      ]
    },
    {
      "cell_type": "code",
      "metadata": {
        "colab": {
          "base_uri": "https://localhost:8080/",
          "height": 359
        },
        "id": "altered-mandate",
        "outputId": "795c27d2-0bba-4fe2-8d27-15b2f38d521d"
      },
      "source": [
        "data[data['gender']=='F']"
      ],
      "id": "altered-mandate",
      "execution_count": null,
      "outputs": [
        {
          "output_type": "execute_result",
          "data": {
            "text/html": [
              "<div>\n",
              "<style scoped>\n",
              "    .dataframe tbody tr th:only-of-type {\n",
              "        vertical-align: middle;\n",
              "    }\n",
              "\n",
              "    .dataframe tbody tr th {\n",
              "        vertical-align: top;\n",
              "    }\n",
              "\n",
              "    .dataframe thead th {\n",
              "        text-align: right;\n",
              "    }\n",
              "</style>\n",
              "<table border=\"1\" class=\"dataframe\">\n",
              "  <thead>\n",
              "    <tr style=\"text-align: right;\">\n",
              "      <th></th>\n",
              "      <th>customer_id</th>\n",
              "      <th>gender</th>\n",
              "      <th>car_type</th>\n",
              "      <th>shirt_size</th>\n",
              "      <th>class</th>\n",
              "    </tr>\n",
              "  </thead>\n",
              "  <tbody>\n",
              "    <tr>\n",
              "      <th>6</th>\n",
              "      <td>7</td>\n",
              "      <td>F</td>\n",
              "      <td>Sports</td>\n",
              "      <td>Small</td>\n",
              "      <td>0</td>\n",
              "    </tr>\n",
              "    <tr>\n",
              "      <th>7</th>\n",
              "      <td>8</td>\n",
              "      <td>F</td>\n",
              "      <td>Sports</td>\n",
              "      <td>Small</td>\n",
              "      <td>0</td>\n",
              "    </tr>\n",
              "    <tr>\n",
              "      <th>8</th>\n",
              "      <td>9</td>\n",
              "      <td>F</td>\n",
              "      <td>Sports</td>\n",
              "      <td>Medium</td>\n",
              "      <td>0</td>\n",
              "    </tr>\n",
              "    <tr>\n",
              "      <th>9</th>\n",
              "      <td>10</td>\n",
              "      <td>F</td>\n",
              "      <td>Luxury</td>\n",
              "      <td>Large</td>\n",
              "      <td>0</td>\n",
              "    </tr>\n",
              "    <tr>\n",
              "      <th>14</th>\n",
              "      <td>15</td>\n",
              "      <td>F</td>\n",
              "      <td>Luxury</td>\n",
              "      <td>Small</td>\n",
              "      <td>0</td>\n",
              "    </tr>\n",
              "    <tr>\n",
              "      <th>15</th>\n",
              "      <td>16</td>\n",
              "      <td>F</td>\n",
              "      <td>Luxury</td>\n",
              "      <td>Small</td>\n",
              "      <td>1</td>\n",
              "    </tr>\n",
              "    <tr>\n",
              "      <th>16</th>\n",
              "      <td>17</td>\n",
              "      <td>F</td>\n",
              "      <td>Luxury</td>\n",
              "      <td>Medium</td>\n",
              "      <td>1</td>\n",
              "    </tr>\n",
              "    <tr>\n",
              "      <th>17</th>\n",
              "      <td>18</td>\n",
              "      <td>F</td>\n",
              "      <td>Luxury</td>\n",
              "      <td>Medium</td>\n",
              "      <td>1</td>\n",
              "    </tr>\n",
              "    <tr>\n",
              "      <th>18</th>\n",
              "      <td>19</td>\n",
              "      <td>F</td>\n",
              "      <td>Luxury</td>\n",
              "      <td>Medium</td>\n",
              "      <td>1</td>\n",
              "    </tr>\n",
              "    <tr>\n",
              "      <th>19</th>\n",
              "      <td>20</td>\n",
              "      <td>F</td>\n",
              "      <td>Luxury</td>\n",
              "      <td>Large</td>\n",
              "      <td>1</td>\n",
              "    </tr>\n",
              "  </tbody>\n",
              "</table>\n",
              "</div>"
            ],
            "text/plain": [
              "    customer_id gender car_type shirt_size class\n",
              "6             7      F   Sports      Small     0\n",
              "7             8      F   Sports      Small     0\n",
              "8             9      F   Sports     Medium     0\n",
              "9            10      F   Luxury      Large     0\n",
              "14           15      F   Luxury      Small     0\n",
              "15           16      F   Luxury      Small     1\n",
              "16           17      F   Luxury     Medium     1\n",
              "17           18      F   Luxury     Medium     1\n",
              "18           19      F   Luxury     Medium     1\n",
              "19           20      F   Luxury      Large     1"
            ]
          },
          "metadata": {},
          "execution_count": 128
        }
      ]
    },
    {
      "cell_type": "markdown",
      "metadata": {
        "id": "subsequent-turkey"
      },
      "source": [
        "### Data Slicing"
      ],
      "id": "subsequent-turkey"
    },
    {
      "cell_type": "code",
      "metadata": {
        "colab": {
          "base_uri": "https://localhost:8080/",
          "height": 173
        },
        "id": "reasonable-light",
        "outputId": "1b8d5208-5dc2-4eca-b0c5-ea9dfe981ca7"
      },
      "source": [
        "by_gender = data.groupby(['class','gender'], as_index=True)['gender'].count().reset_index(name='count')\n",
        "by_gender"
      ],
      "id": "reasonable-light",
      "execution_count": null,
      "outputs": [
        {
          "output_type": "execute_result",
          "data": {
            "text/html": [
              "<div>\n",
              "<style scoped>\n",
              "    .dataframe tbody tr th:only-of-type {\n",
              "        vertical-align: middle;\n",
              "    }\n",
              "\n",
              "    .dataframe tbody tr th {\n",
              "        vertical-align: top;\n",
              "    }\n",
              "\n",
              "    .dataframe thead th {\n",
              "        text-align: right;\n",
              "    }\n",
              "</style>\n",
              "<table border=\"1\" class=\"dataframe\">\n",
              "  <thead>\n",
              "    <tr style=\"text-align: right;\">\n",
              "      <th></th>\n",
              "      <th>class</th>\n",
              "      <th>gender</th>\n",
              "      <th>count</th>\n",
              "    </tr>\n",
              "  </thead>\n",
              "  <tbody>\n",
              "    <tr>\n",
              "      <th>0</th>\n",
              "      <td>0</td>\n",
              "      <td>F</td>\n",
              "      <td>5</td>\n",
              "    </tr>\n",
              "    <tr>\n",
              "      <th>1</th>\n",
              "      <td>0</td>\n",
              "      <td>M</td>\n",
              "      <td>7</td>\n",
              "    </tr>\n",
              "    <tr>\n",
              "      <th>2</th>\n",
              "      <td>1</td>\n",
              "      <td>F</td>\n",
              "      <td>5</td>\n",
              "    </tr>\n",
              "    <tr>\n",
              "      <th>3</th>\n",
              "      <td>1</td>\n",
              "      <td>M</td>\n",
              "      <td>3</td>\n",
              "    </tr>\n",
              "  </tbody>\n",
              "</table>\n",
              "</div>"
            ],
            "text/plain": [
              "  class gender  count\n",
              "0     0      F      5\n",
              "1     0      M      7\n",
              "2     1      F      5\n",
              "3     1      M      3"
            ]
          },
          "metadata": {},
          "execution_count": 13
        }
      ]
    },
    {
      "cell_type": "markdown",
      "metadata": {
        "id": "inner-extra"
      },
      "source": [
        "## 3. Impurity Function\n",
        "--------------------------------"
      ],
      "id": "inner-extra"
    },
    {
      "cell_type": "markdown",
      "metadata": {
        "id": "improved-colombia"
      },
      "source": [
        "### 3.1 GINI"
      ],
      "id": "improved-colombia"
    },
    {
      "cell_type": "code",
      "metadata": {
        "id": "stuffed-adolescent"
      },
      "source": [
        "def gini(x):\n",
        "    '''\n",
        "    Tipe data parameter x harus list\n",
        "    Gender:\n",
        "    M\n",
        "        C0: 5\n",
        "        C1: 5\n",
        "    x = [5, 5]\n",
        "    '''\n",
        "    num_data = sum(x)\n",
        "    sigma = 0\n",
        "    for i in x:\n",
        "        sigma += (i/num_data)**2\n",
        "    return 1-sigma"
      ],
      "id": "stuffed-adolescent",
      "execution_count": null,
      "outputs": []
    },
    {
      "cell_type": "markdown",
      "metadata": {
        "id": "structured-greek"
      },
      "source": [
        "### 3.2 Entropy"
      ],
      "id": "structured-greek"
    },
    {
      "cell_type": "code",
      "metadata": {
        "id": "patient-technique"
      },
      "source": [
        "def entropy(x):\n",
        "    num_data = sum(x)\n",
        "    sigma = 0\n",
        "    for i in x:\n",
        "        sigma += (i/num_data)*math.log(i/num_data)\n",
        "    return sigma*-1"
      ],
      "id": "patient-technique",
      "execution_count": null,
      "outputs": []
    },
    {
      "cell_type": "markdown",
      "metadata": {
        "id": "abandoned-effort"
      },
      "source": [
        "### 3.3 Missclassification Error"
      ],
      "id": "abandoned-effort"
    },
    {
      "cell_type": "code",
      "metadata": {
        "id": "after-allocation"
      },
      "source": [
        "def miss_error(x):\n",
        "    num_data = sum(x)\n",
        "    max_val = 0\n",
        "    for i in x:\n",
        "        max_val = max(max_val, (i/num_data))\n",
        "    return 1-max_val"
      ],
      "id": "after-allocation",
      "execution_count": null,
      "outputs": []
    },
    {
      "cell_type": "markdown",
      "metadata": {
        "id": "developed-monroe"
      },
      "source": [
        "## 4. Calculate All Data Frame Impurity\n",
        "---------------------------------------------------"
      ],
      "id": "developed-monroe"
    },
    {
      "cell_type": "code",
      "metadata": {
        "scrolled": true,
        "id": "super-exposure"
      },
      "source": [
        "def impurity(dataset, cols, method=0):\n",
        "    '''\n",
        "    Method: 0 for gini (default), 1 for entropy, 2 for missclassification error\n",
        "    '''\n",
        "    impurity = dict()\n",
        "    method_list = ['gini', 'entropy', 'miss_error']\n",
        "    method = method_list[method]\n",
        "    \n",
        "    class_data = dataset.groupby(['class'], as_index=True)['class'].count().reset_index(name='count')\n",
        "    impurity['class'] = globals()[method](list(class_data['count']))\n",
        "    \n",
        "    cols.remove('class')\n",
        "    for col in cols:\n",
        "        sliced = dataset.groupby(['class',col], as_index=True)[col].count().reset_index(name='count')\n",
        "        num_data = sum(sliced['count'])\n",
        "        unique_value = sliced[col].unique()\n",
        "        tmp = dict()\n",
        "        for val in unique_value:\n",
        "            sliced_by_value = list(sliced[sliced[col]==val]['count'])\n",
        "            tmp[val] = globals()[method](sliced_by_value)*(sum(sliced_by_value)/num_data)\n",
        "        impurity[col] = tmp\n",
        "    return impurity"
      ],
      "id": "super-exposure",
      "execution_count": null,
      "outputs": []
    },
    {
      "cell_type": "markdown",
      "metadata": {
        "id": "greatest-powell"
      },
      "source": [
        "### Test Function Using Dataset|"
      ],
      "id": "greatest-powell"
    },
    {
      "cell_type": "code",
      "metadata": {
        "colab": {
          "base_uri": "https://localhost:8080/"
        },
        "id": "informational-burner",
        "outputId": "42f25d14-282b-4955-815c-a75718b4714b"
      },
      "source": [
        "from pprint import pprint\n",
        "data_impurity = impurity(data, columns.copy())\n",
        "pprint(data_impurity,width=1)"
      ],
      "id": "informational-burner",
      "execution_count": null,
      "outputs": [
        {
          "output_type": "stream",
          "name": "stdout",
          "text": [
            "{'car_type': {'Family': 0.1,\n",
            "              'Luxury': 0.15000000000000002,\n",
            "              'Sports': 0.0},\n",
            " 'class': 0.48,\n",
            " 'gender': {'F': 0.25,\n",
            "            'M': 0.21000000000000002},\n",
            " 'shirt_size': {'Extra Large': 0.1,\n",
            "                'Large': 0.07500000000000001,\n",
            "                'Medium': 0.17142857142857146,\n",
            "                'Small': 0.07999999999999996}}\n"
          ]
        }
      ]
    },
    {
      "cell_type": "markdown",
      "metadata": {
        "id": "turkish-species"
      },
      "source": [
        "## Training\n",
        "---------------\n",
        "### 1st node"
      ],
      "id": "turkish-species"
    },
    {
      "cell_type": "code",
      "metadata": {
        "colab": {
          "base_uri": "https://localhost:8080/"
        },
        "id": "fluid-iraqi",
        "outputId": "765a386c-dfc4-4547-e6bf-2eb1b20eb179"
      },
      "source": [
        "data_impurity_1st = data_impurity.copy()\n",
        "class_impurity = data_impurity_1st['class']\n",
        "\n",
        "gain = dict()\n",
        "data_impurity_1st.pop('class')\n",
        "for key in data_impurity_1st.keys():\n",
        "    gain[key] = class_impurity - sum(data_impurity_1st[key].values())\n",
        "pprint(gain)\n",
        "max_gain = sorted(gain, key=gain.get, reverse=True)[0]\n",
        "print('\\nMaximal Information Gain: ', max_gain,'(',gain[max_gain],')')"
      ],
      "id": "fluid-iraqi",
      "execution_count": null,
      "outputs": [
        {
          "output_type": "stream",
          "name": "stdout",
          "text": [
            "{'car_type': 0.22999999999999998,\n",
            " 'gender': 0.019999999999999962,\n",
            " 'shirt_size': 0.05357142857142855}\n",
            "\n",
            "Maximal Information Gain:  car_type ( 0.22999999999999998 )\n"
          ]
        }
      ]
    },
    {
      "cell_type": "code",
      "metadata": {
        "id": "coral-winner"
      },
      "source": [
        ""
      ],
      "id": "coral-winner",
      "execution_count": null,
      "outputs": []
    }
  ]
}